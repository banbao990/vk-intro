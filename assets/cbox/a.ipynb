{
 "cells": [
  {
   "cell_type": "code",
   "execution_count": 21,
   "metadata": {},
   "outputs": [],
   "source": [
    "import numpy as np\n",
    "from PIL import Image\n",
    "\n",
    "array = np.array([0.63, 0.065, 0.05]) * 256\n",
    "array = np.reshape(array, (1, 1, 3))\n",
    "im = Image.fromarray(np.uint8(array))\n",
    "im.save(\"Red.jpg\")"
   ]
  },
  {
   "cell_type": "code",
   "execution_count": 22,
   "metadata": {},
   "outputs": [],
   "source": [
    "\n",
    "array = np.array([0.725, 0.71, 0.68]) * 256\n",
    "array = np.reshape(array, (1, 1, 3))\n",
    "im = Image.fromarray(np.uint8(array))\n",
    "im.save(\"White.jpg\")"
   ]
  },
  {
   "cell_type": "code",
   "execution_count": 23,
   "metadata": {},
   "outputs": [],
   "source": [
    "array = np.array([0.14, 0.45, 0.091]) * 256\n",
    "array = np.reshape(array, (1, 1, 3))\n",
    "im = Image.fromarray(np.uint8(array))\n",
    "im.save(\"Green.jpg\")"
   ]
  },
  {
   "cell_type": "code",
   "execution_count": null,
   "metadata": {},
   "outputs": [],
   "source": []
  }
 ],
 "metadata": {
  "kernelspec": {
   "display_name": "py37",
   "language": "python",
   "name": "python3"
  },
  "language_info": {
   "codemirror_mode": {
    "name": "ipython",
    "version": 3
   },
   "file_extension": ".py",
   "mimetype": "text/x-python",
   "name": "python",
   "nbconvert_exporter": "python",
   "pygments_lexer": "ipython3",
   "version": "3.7.13"
  },
  "orig_nbformat": 4
 },
 "nbformat": 4,
 "nbformat_minor": 2
}
